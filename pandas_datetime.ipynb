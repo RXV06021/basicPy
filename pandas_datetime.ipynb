{
  "nbformat": 4,
  "nbformat_minor": 0,
  "metadata": {
    "colab": {
      "name": "pandas datetime.ipynb",
      "version": "0.3.2",
      "provenance": [],
      "collapsed_sections": []
    }
  },
  "cells": [
    {
      "cell_type": "markdown",
      "metadata": {
        "id": "view-in-github",
        "colab_type": "text"
      },
      "source": [
        "[View in Colaboratory](https://colab.research.google.com/github/RXV06021/basicPy/blob/master/pandas_datetime.ipynb)"
      ]
    },
    {
      "metadata": {
        "id": "Rw1UB0j3gH1d",
        "colab_type": "text"
      },
      "cell_type": "markdown",
      "source": [
        "# Pandas datetime"
      ]
    },
    {
      "metadata": {
        "id": "MyhT0PsIF5s5",
        "colab_type": "text"
      },
      "cell_type": "markdown",
      "source": [
        "### 1. 時間が'YYYYmmddHHMMSSfff'として与えられた場合の処理"
      ]
    },
    {
      "metadata": {
        "id": "lGd-T7tnFdZP",
        "colab_type": "code",
        "colab": {
          "base_uri": "https://localhost:8080/",
          "height": 173
        },
        "outputId": "bc11fef2-b5f1-4055-8ad1-0123a25d6dff"
      },
      "cell_type": "code",
      "source": [
        "import pandas as pd\n",
        "# import datetime は不要です。\n",
        "\n",
        "# sampleデータです。\n",
        "sample=[\n",
        "        20180808121545000,\n",
        "        20180808121545200,\n",
        "        20180808121546400,\n",
        "        20180808121745600]\n",
        "\n",
        "df=pd.DataFrame(sample,columns={'date'})\n",
        "\n",
        "# datetime型への変換処理は、pandasのto_datetimeを使います。\n",
        "#df.date.to_datetimeではできないのが少しややこしい。\n",
        "\n",
        "df.date=pd.to_datetime(df.date,format='%Y%m%d%H%M%f')\n",
        "df"
      ],
      "execution_count": 12,
      "outputs": [
        {
          "output_type": "execute_result",
          "data": {
            "text/html": [
              "<div>\n",
              "<style scoped>\n",
              "    .dataframe tbody tr th:only-of-type {\n",
              "        vertical-align: middle;\n",
              "    }\n",
              "\n",
              "    .dataframe tbody tr th {\n",
              "        vertical-align: top;\n",
              "    }\n",
              "\n",
              "    .dataframe thead th {\n",
              "        text-align: right;\n",
              "    }\n",
              "</style>\n",
              "<table border=\"1\" class=\"dataframe\">\n",
              "  <thead>\n",
              "    <tr style=\"text-align: right;\">\n",
              "      <th></th>\n",
              "      <th>date</th>\n",
              "    </tr>\n",
              "  </thead>\n",
              "  <tbody>\n",
              "    <tr>\n",
              "      <th>0</th>\n",
              "      <td>2018-08-08 12:15:00.450</td>\n",
              "    </tr>\n",
              "    <tr>\n",
              "      <th>1</th>\n",
              "      <td>2018-08-08 12:15:00.452</td>\n",
              "    </tr>\n",
              "    <tr>\n",
              "      <th>2</th>\n",
              "      <td>2018-08-08 12:15:00.464</td>\n",
              "    </tr>\n",
              "    <tr>\n",
              "      <th>3</th>\n",
              "      <td>2018-08-08 12:17:00.456</td>\n",
              "    </tr>\n",
              "  </tbody>\n",
              "</table>\n",
              "</div>"
            ],
            "text/plain": [
              "                     date\n",
              "0 2018-08-08 12:15:00.450\n",
              "1 2018-08-08 12:15:00.452\n",
              "2 2018-08-08 12:15:00.464\n",
              "3 2018-08-08 12:17:00.456"
            ]
          },
          "metadata": {
            "tags": []
          },
          "execution_count": 12
        }
      ]
    },
    {
      "metadata": {
        "id": "f4Q8s8gCF__2",
        "colab_type": "text"
      },
      "cell_type": "markdown",
      "source": [
        "この様に、datetimeに変換する場合、pandasのto_datetimeという変換コマンドがあります.to_datetimeのオプションであるformatについてはmonth/dayを意味する'%m%d'が小文字で、時間を表hour/minute/secondが'%H%M%S'大文字になります。秒の少数点以下は'%f'（'%F'ではない）とします。"
      ]
    },
    {
      "metadata": {
        "id": "KiZsLSUTGCsb",
        "colab_type": "text"
      },
      "cell_type": "markdown",
      "source": [
        "### 2. 時間が'YYYY/mm/ddTHH:MM:SS.fff'として与えられた場合"
      ]
    },
    {
      "metadata": {
        "id": "Yb0cR26GGbRe",
        "colab_type": "code",
        "colab": {
          "base_uri": "https://localhost:8080/",
          "height": 173
        },
        "outputId": "3b998116-e26f-4e25-fbc5-dbc50a5b02b6"
      },
      "cell_type": "code",
      "source": [
        "date_str=[\n",
        "    '2018/08/08T12:15:00.000',\n",
        "    '2018/08/08T12:15:00.200',\n",
        "    '2018/08/08T12:15:45.200',\n",
        "    '2018/08/08T12:17:45.600']\n",
        "df=pd.DataFrame(date_str,columns={'dtime'})\n",
        "df.dtime=pd.to_datetime(df.dtime,format='%Y/%m/%dT%H:%M:%S.%f')\n",
        "df"
      ],
      "execution_count": 13,
      "outputs": [
        {
          "output_type": "execute_result",
          "data": {
            "text/html": [
              "<div>\n",
              "<style scoped>\n",
              "    .dataframe tbody tr th:only-of-type {\n",
              "        vertical-align: middle;\n",
              "    }\n",
              "\n",
              "    .dataframe tbody tr th {\n",
              "        vertical-align: top;\n",
              "    }\n",
              "\n",
              "    .dataframe thead th {\n",
              "        text-align: right;\n",
              "    }\n",
              "</style>\n",
              "<table border=\"1\" class=\"dataframe\">\n",
              "  <thead>\n",
              "    <tr style=\"text-align: right;\">\n",
              "      <th></th>\n",
              "      <th>dtime</th>\n",
              "    </tr>\n",
              "  </thead>\n",
              "  <tbody>\n",
              "    <tr>\n",
              "      <th>0</th>\n",
              "      <td>2018-08-08 12:15:00.000</td>\n",
              "    </tr>\n",
              "    <tr>\n",
              "      <th>1</th>\n",
              "      <td>2018-08-08 12:15:00.200</td>\n",
              "    </tr>\n",
              "    <tr>\n",
              "      <th>2</th>\n",
              "      <td>2018-08-08 12:15:45.200</td>\n",
              "    </tr>\n",
              "    <tr>\n",
              "      <th>3</th>\n",
              "      <td>2018-08-08 12:17:45.600</td>\n",
              "    </tr>\n",
              "  </tbody>\n",
              "</table>\n",
              "</div>"
            ],
            "text/plain": [
              "                    dtime\n",
              "0 2018-08-08 12:15:00.000\n",
              "1 2018-08-08 12:15:00.200\n",
              "2 2018-08-08 12:15:45.200\n",
              "3 2018-08-08 12:17:45.600"
            ]
          },
          "metadata": {
            "tags": []
          },
          "execution_count": 13
        }
      ]
    },
    {
      "metadata": {
        "id": "XTZtbQqQHIJq",
        "colab_type": "text"
      },
      "cell_type": "markdown",
      "source": [
        "書式：説明\n",
        "\n",
        "%Y：４桁の年\n",
        "\n",
        "%y：２桁の年\n",
        "\n",
        "%m：２桁の月[01,02,...,12]\n",
        "\n",
        "%d：日[2桁]\n",
        "\n",
        "%H：時間[24時間]\n",
        "\n",
        "%I：時間[12時間]\n",
        "\n",
        "%M：分\n",
        "\n",
        "%S：秒\n",
        "\n",
        "%z：タイムゾーン UTCのずれの分[+HHMM]\n",
        "\n",
        "%F：%Y-%m-%d のalias\n",
        "\n",
        "%f：sub-second [0.000 sec]"
      ]
    },
    {
      "metadata": {
        "id": "zVn1SCuke2sx",
        "colab_type": "text"
      },
      "cell_type": "markdown",
      "source": [
        "## Python pandas データ選択処理をちょっと詳しく <後編>　　より\n",
        "出典：http://sinhrks.hatenablog.com/entry/2014/11/18/003204"
      ]
    },
    {
      "metadata": {
        "id": "XkxpjxXNIAiW",
        "colab_type": "code",
        "colab": {
          "base_uri": "https://localhost:8080/",
          "height": 173
        },
        "outputId": "8296d72a-2e2b-4e1a-f123-c9cd4eec703b"
      },
      "cell_type": "code",
      "source": [
        "sample=[\n",
        "        20180808121545000,\n",
        "        20180808121545200,\n",
        "        20180808121546400,\n",
        "        20180808121745600]\n",
        "date_str=[\n",
        "    '2018/08/08T12:15:00.000',\n",
        "    '2018/08/08T12:15:00.200',\n",
        "    '2018/08/08T12:15:45.200',\n",
        "    '2018/08/08T12:17:45.600']\n",
        "\n",
        "df=pd.DataFrame({'dtimeIn' : sample,\n",
        "                 'dtimeOut':date_str})\n",
        "df.dtimeIn=pd.to_datetime(df.dtimeIn,format='%Y%m%d%H%M%f')\n",
        "df.dtimeOut=pd.to_datetime(df.dtimeOut,format='%Y/%m/%dT%H:%M:%S.%f')\n",
        "\n",
        "df.dtimeOut = df.dtimeOut.where(df.sig==False,'2018-08-08 00:00:00.000')\n",
        "df\n"
      ],
      "execution_count": 34,
      "outputs": [
        {
          "output_type": "execute_result",
          "data": {
            "text/html": [
              "<div>\n",
              "<style scoped>\n",
              "    .dataframe tbody tr th:only-of-type {\n",
              "        vertical-align: middle;\n",
              "    }\n",
              "\n",
              "    .dataframe tbody tr th {\n",
              "        vertical-align: top;\n",
              "    }\n",
              "\n",
              "    .dataframe thead th {\n",
              "        text-align: right;\n",
              "    }\n",
              "</style>\n",
              "<table border=\"1\" class=\"dataframe\">\n",
              "  <thead>\n",
              "    <tr style=\"text-align: right;\">\n",
              "      <th></th>\n",
              "      <th>dtimeIn</th>\n",
              "      <th>dtimeOut</th>\n",
              "      <th>sig</th>\n",
              "    </tr>\n",
              "  </thead>\n",
              "  <tbody>\n",
              "    <tr>\n",
              "      <th>0</th>\n",
              "      <td>2018-08-08 12:15:00.450</td>\n",
              "      <td>2018-08-08 00:00:00.000</td>\n",
              "      <td>True</td>\n",
              "    </tr>\n",
              "    <tr>\n",
              "      <th>1</th>\n",
              "      <td>2018-08-08 12:15:00.452</td>\n",
              "      <td>2018-08-08 00:00:00.000</td>\n",
              "      <td>True</td>\n",
              "    </tr>\n",
              "    <tr>\n",
              "      <th>2</th>\n",
              "      <td>2018-08-08 12:15:00.464</td>\n",
              "      <td>2018-08-08 12:15:45.200000</td>\n",
              "      <td>False</td>\n",
              "    </tr>\n",
              "    <tr>\n",
              "      <th>3</th>\n",
              "      <td>2018-08-08 12:17:00.456</td>\n",
              "      <td>2018-08-08 12:17:45.600000</td>\n",
              "      <td>False</td>\n",
              "    </tr>\n",
              "  </tbody>\n",
              "</table>\n",
              "</div>"
            ],
            "text/plain": [
              "                  dtimeIn                    dtimeOut    sig\n",
              "0 2018-08-08 12:15:00.450     2018-08-08 00:00:00.000   True\n",
              "1 2018-08-08 12:15:00.452     2018-08-08 00:00:00.000   True\n",
              "2 2018-08-08 12:15:00.464  2018-08-08 12:15:45.200000  False\n",
              "3 2018-08-08 12:17:00.456  2018-08-08 12:17:45.600000  False"
            ]
          },
          "metadata": {
            "tags": []
          },
          "execution_count": 34
        }
      ]
    }
  ]
}