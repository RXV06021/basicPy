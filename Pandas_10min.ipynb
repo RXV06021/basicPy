{
  "nbformat": 4,
  "nbformat_minor": 0,
  "metadata": {
    "colab": {
      "name": "Pandas_10min.ipynb",
      "version": "0.3.2",
      "provenance": [],
      "collapsed_sections": [],
      "toc_visible": true
    },
    "kernelspec": {
      "name": "python3",
      "display_name": "Python 3"
    }
  },
  "cells": [
    {
      "cell_type": "markdown",
      "metadata": {
        "id": "view-in-github",
        "colab_type": "text"
      },
      "source": [
        "[View in Colaboratory](https://colab.research.google.com/github/RXV06021/basicPy/blob/master/Pandas_10min.ipynb)"
      ]
    },
    {
      "metadata": {
        "id": "1LhSwZusw6Uj",
        "colab_type": "text"
      },
      "cell_type": "markdown",
      "source": [
        "# Pandasの基本"
      ]
    },
    {
      "metadata": {
        "id": "MZrQEYjfw9s5",
        "colab_type": "text"
      },
      "cell_type": "markdown",
      "source": [
        "# 10 Minutes to pandas\n",
        "\n",
        "http://pandas.pydata.org/pandas-docs/stable/10min.html\n",
        "\n",
        "This is a short introduction to pandas, geared mainly for new users. You can see more complex recipes in the [Cookbook](http://pandas.pydata.org/pandas-docs/stable/cookbook.html#cookbook)."
      ]
    },
    {
      "metadata": {
        "id": "a8mJtyEZxjGd",
        "colab_type": "text"
      },
      "cell_type": "markdown",
      "source": [
        "Customarily, we import as follows:"
      ]
    },
    {
      "metadata": {
        "id": "xMhdZJTiwhrJ",
        "colab_type": "code",
        "colab": {}
      },
      "cell_type": "code",
      "source": [
        "import pandas as pd\n",
        "import numpy as np\n",
        "import matplotlib.pyplot as plt"
      ],
      "execution_count": 0,
      "outputs": []
    },
    {
      "metadata": {
        "id": "AthGJU2ox0n-",
        "colab_type": "text"
      },
      "cell_type": "markdown",
      "source": [
        "## Object Creation\n",
        "\n",
        "<font color=\"red\">**...  pd.Series**</font>  \n",
        "\n",
        "See the [Data Structure Intro section](http://pandas.pydata.org/pandas-docs/stable/dsintro.html#dsintro).  \n",
        "Creating a [Series](http://pandas.pydata.org/pandas-docs/stable/generated/pandas.Series.html#pandas.Series) by passing a list of values, letting pandas create a default integer index:"
      ]
    },
    {
      "metadata": {
        "id": "gfIjQeW_yT-W",
        "colab_type": "code",
        "colab": {
          "base_uri": "https://localhost:8080/",
          "height": 136
        },
        "outputId": "06fa66d7-465c-4526-a47b-305e2cbb4dba"
      },
      "cell_type": "code",
      "source": [
        "s = pd.Series([1,3,5,np.nan,6,8])\n",
        "s"
      ],
      "execution_count": 22,
      "outputs": [
        {
          "output_type": "execute_result",
          "data": {
            "text/plain": [
              "0    1.0\n",
              "1    3.0\n",
              "2    5.0\n",
              "3    NaN\n",
              "4    6.0\n",
              "5    8.0\n",
              "dtype: float64"
            ]
          },
          "metadata": {
            "tags": []
          },
          "execution_count": 22
        }
      ]
    },
    {
      "metadata": {
        "id": "m2u7_F5WOJvT",
        "colab_type": "code",
        "colab": {}
      },
      "cell_type": "code",
      "source": [
        ""
      ],
      "execution_count": 0,
      "outputs": []
    },
    {
      "metadata": {
        "id": "NVIM-Dd2OiOx",
        "colab_type": "text"
      },
      "cell_type": "markdown",
      "source": [
        ""
      ]
    },
    {
      "metadata": {
        "id": "CbeAB-eGL7U4",
        "colab_type": "text"
      },
      "cell_type": "markdown",
      "source": [
        ""
      ]
    },
    {
      "metadata": {
        "id": "QPJZO4HvyjaB",
        "colab_type": "text"
      },
      "cell_type": "markdown",
      "source": [
        "Creating a [DataFrame](http://pandas.pydata.org/pandas-docs/stable/generated/pandas.DataFrame.html#pandas.DataFrame) by passing a NumPy array, with a datetime index and labeled columns:\n",
        "\n",
        "<font color=\"red\">**... pd.date_range**</font>  "
      ]
    },
    {
      "metadata": {
        "id": "h9s6H7Bfyy2w",
        "colab_type": "code",
        "colab": {
          "base_uri": "https://localhost:8080/",
          "height": 68
        },
        "outputId": "034b1b3b-9d90-41cb-e617-fbd3167c1474"
      },
      "cell_type": "code",
      "source": [
        "dates = pd.date_range('20130101', periods=6)\n",
        "dates"
      ],
      "execution_count": 23,
      "outputs": [
        {
          "output_type": "execute_result",
          "data": {
            "text/plain": [
              "DatetimeIndex(['2013-01-01', '2013-01-02', '2013-01-03', '2013-01-04',\n",
              "               '2013-01-05', '2013-01-06'],\n",
              "              dtype='datetime64[ns]', freq='D')"
            ]
          },
          "metadata": {
            "tags": []
          },
          "execution_count": 23
        }
      ]
    },
    {
      "metadata": {
        "id": "RILSDAu2O3gP",
        "colab_type": "text"
      },
      "cell_type": "markdown",
      "source": [
        "<font color=\"red\">**... pd.DataFrame**</font>  "
      ]
    },
    {
      "metadata": {
        "id": "WDlwkWRzy7lo",
        "colab_type": "code",
        "colab": {
          "base_uri": "https://localhost:8080/",
          "height": 235
        },
        "outputId": "f9b32f60-fd64-4185-a1cd-94297137457f"
      },
      "cell_type": "code",
      "source": [
        "df = pd.DataFrame(np.random.randn(6,4), index=dates, columns=list('ABCD'))\n",
        "df"
      ],
      "execution_count": 24,
      "outputs": [
        {
          "output_type": "execute_result",
          "data": {
            "text/html": [
              "<div>\n",
              "<style scoped>\n",
              "    .dataframe tbody tr th:only-of-type {\n",
              "        vertical-align: middle;\n",
              "    }\n",
              "\n",
              "    .dataframe tbody tr th {\n",
              "        vertical-align: top;\n",
              "    }\n",
              "\n",
              "    .dataframe thead th {\n",
              "        text-align: right;\n",
              "    }\n",
              "</style>\n",
              "<table border=\"1\" class=\"dataframe\">\n",
              "  <thead>\n",
              "    <tr style=\"text-align: right;\">\n",
              "      <th></th>\n",
              "      <th>A</th>\n",
              "      <th>B</th>\n",
              "      <th>C</th>\n",
              "      <th>D</th>\n",
              "    </tr>\n",
              "  </thead>\n",
              "  <tbody>\n",
              "    <tr>\n",
              "      <th>2013-01-01</th>\n",
              "      <td>2.000807</td>\n",
              "      <td>-0.282388</td>\n",
              "      <td>-1.021859</td>\n",
              "      <td>1.198851</td>\n",
              "    </tr>\n",
              "    <tr>\n",
              "      <th>2013-01-02</th>\n",
              "      <td>0.614508</td>\n",
              "      <td>-0.797851</td>\n",
              "      <td>-0.092841</td>\n",
              "      <td>1.558510</td>\n",
              "    </tr>\n",
              "    <tr>\n",
              "      <th>2013-01-03</th>\n",
              "      <td>-0.006184</td>\n",
              "      <td>0.505052</td>\n",
              "      <td>-0.581988</td>\n",
              "      <td>-0.899587</td>\n",
              "    </tr>\n",
              "    <tr>\n",
              "      <th>2013-01-04</th>\n",
              "      <td>0.079399</td>\n",
              "      <td>0.604562</td>\n",
              "      <td>-0.311265</td>\n",
              "      <td>2.054056</td>\n",
              "    </tr>\n",
              "    <tr>\n",
              "      <th>2013-01-05</th>\n",
              "      <td>0.976353</td>\n",
              "      <td>-1.571641</td>\n",
              "      <td>0.903299</td>\n",
              "      <td>0.414633</td>\n",
              "    </tr>\n",
              "    <tr>\n",
              "      <th>2013-01-06</th>\n",
              "      <td>0.468047</td>\n",
              "      <td>1.646429</td>\n",
              "      <td>-0.986111</td>\n",
              "      <td>-0.470343</td>\n",
              "    </tr>\n",
              "  </tbody>\n",
              "</table>\n",
              "</div>"
            ],
            "text/plain": [
              "                   A         B         C         D\n",
              "2013-01-01  2.000807 -0.282388 -1.021859  1.198851\n",
              "2013-01-02  0.614508 -0.797851 -0.092841  1.558510\n",
              "2013-01-03 -0.006184  0.505052 -0.581988 -0.899587\n",
              "2013-01-04  0.079399  0.604562 -0.311265  2.054056\n",
              "2013-01-05  0.976353 -1.571641  0.903299  0.414633\n",
              "2013-01-06  0.468047  1.646429 -0.986111 -0.470343"
            ]
          },
          "metadata": {
            "tags": []
          },
          "execution_count": 24
        }
      ]
    },
    {
      "metadata": {
        "id": "LmOfCJU3PUF3",
        "colab_type": "text"
      },
      "cell_type": "markdown",
      "source": [
        "<font color=\"red\">**... display(df)**</font>  "
      ]
    },
    {
      "metadata": {
        "id": "Zypvo5Stb25M",
        "colab_type": "code",
        "colab": {
          "base_uri": "https://localhost:8080/",
          "height": 235
        },
        "outputId": "c4a5ec80-5ce9-4d13-ef79-fdaa032e87a8"
      },
      "cell_type": "code",
      "source": [
        "display(df)"
      ],
      "execution_count": 25,
      "outputs": [
        {
          "output_type": "display_data",
          "data": {
            "text/html": [
              "<div>\n",
              "<style scoped>\n",
              "    .dataframe tbody tr th:only-of-type {\n",
              "        vertical-align: middle;\n",
              "    }\n",
              "\n",
              "    .dataframe tbody tr th {\n",
              "        vertical-align: top;\n",
              "    }\n",
              "\n",
              "    .dataframe thead th {\n",
              "        text-align: right;\n",
              "    }\n",
              "</style>\n",
              "<table border=\"1\" class=\"dataframe\">\n",
              "  <thead>\n",
              "    <tr style=\"text-align: right;\">\n",
              "      <th></th>\n",
              "      <th>A</th>\n",
              "      <th>B</th>\n",
              "      <th>C</th>\n",
              "      <th>D</th>\n",
              "    </tr>\n",
              "  </thead>\n",
              "  <tbody>\n",
              "    <tr>\n",
              "      <th>2013-01-01</th>\n",
              "      <td>2.000807</td>\n",
              "      <td>-0.282388</td>\n",
              "      <td>-1.021859</td>\n",
              "      <td>1.198851</td>\n",
              "    </tr>\n",
              "    <tr>\n",
              "      <th>2013-01-02</th>\n",
              "      <td>0.614508</td>\n",
              "      <td>-0.797851</td>\n",
              "      <td>-0.092841</td>\n",
              "      <td>1.558510</td>\n",
              "    </tr>\n",
              "    <tr>\n",
              "      <th>2013-01-03</th>\n",
              "      <td>-0.006184</td>\n",
              "      <td>0.505052</td>\n",
              "      <td>-0.581988</td>\n",
              "      <td>-0.899587</td>\n",
              "    </tr>\n",
              "    <tr>\n",
              "      <th>2013-01-04</th>\n",
              "      <td>0.079399</td>\n",
              "      <td>0.604562</td>\n",
              "      <td>-0.311265</td>\n",
              "      <td>2.054056</td>\n",
              "    </tr>\n",
              "    <tr>\n",
              "      <th>2013-01-05</th>\n",
              "      <td>0.976353</td>\n",
              "      <td>-1.571641</td>\n",
              "      <td>0.903299</td>\n",
              "      <td>0.414633</td>\n",
              "    </tr>\n",
              "    <tr>\n",
              "      <th>2013-01-06</th>\n",
              "      <td>0.468047</td>\n",
              "      <td>1.646429</td>\n",
              "      <td>-0.986111</td>\n",
              "      <td>-0.470343</td>\n",
              "    </tr>\n",
              "  </tbody>\n",
              "</table>\n",
              "</div>"
            ],
            "text/plain": [
              "                   A         B         C         D\n",
              "2013-01-01  2.000807 -0.282388 -1.021859  1.198851\n",
              "2013-01-02  0.614508 -0.797851 -0.092841  1.558510\n",
              "2013-01-03 -0.006184  0.505052 -0.581988 -0.899587\n",
              "2013-01-04  0.079399  0.604562 -0.311265  2.054056\n",
              "2013-01-05  0.976353 -1.571641  0.903299  0.414633\n",
              "2013-01-06  0.468047  1.646429 -0.986111 -0.470343"
            ]
          },
          "metadata": {
            "tags": []
          }
        }
      ]
    },
    {
      "metadata": {
        "id": "g8ariuqvzFRV",
        "colab_type": "text"
      },
      "cell_type": "markdown",
      "source": [
        "Creating a DataFrame by passing a dict of objects that can be converted to series-like."
      ]
    },
    {
      "metadata": {
        "id": "YH9gEp_WzMqM",
        "colab_type": "code",
        "colab": {
          "base_uri": "https://localhost:8080/",
          "height": 173
        },
        "outputId": "db7116e8-c7ce-4a6e-b2fc-769bc57cf9a4"
      },
      "cell_type": "code",
      "source": [
        "df2 = pd.DataFrame({ 'A' : 1.,\n",
        "                    'B' : pd.Timestamp('20130102'),\n",
        "                    'C' : pd.Series(1,index=list(range(4)),dtype='float32'),\n",
        "                    'D' : np.array([3] * 4,dtype='int32'),\n",
        "                    'E' : pd.Categorical([\"test\",\"train\",\"test\",\"train\"]),\n",
        "                    'F' : 'foo' })\n",
        "df2"
      ],
      "execution_count": 26,
      "outputs": [
        {
          "output_type": "execute_result",
          "data": {
            "text/html": [
              "<div>\n",
              "<style scoped>\n",
              "    .dataframe tbody tr th:only-of-type {\n",
              "        vertical-align: middle;\n",
              "    }\n",
              "\n",
              "    .dataframe tbody tr th {\n",
              "        vertical-align: top;\n",
              "    }\n",
              "\n",
              "    .dataframe thead th {\n",
              "        text-align: right;\n",
              "    }\n",
              "</style>\n",
              "<table border=\"1\" class=\"dataframe\">\n",
              "  <thead>\n",
              "    <tr style=\"text-align: right;\">\n",
              "      <th></th>\n",
              "      <th>A</th>\n",
              "      <th>B</th>\n",
              "      <th>C</th>\n",
              "      <th>D</th>\n",
              "      <th>E</th>\n",
              "      <th>F</th>\n",
              "    </tr>\n",
              "  </thead>\n",
              "  <tbody>\n",
              "    <tr>\n",
              "      <th>0</th>\n",
              "      <td>1.0</td>\n",
              "      <td>2013-01-02</td>\n",
              "      <td>1.0</td>\n",
              "      <td>3</td>\n",
              "      <td>test</td>\n",
              "      <td>foo</td>\n",
              "    </tr>\n",
              "    <tr>\n",
              "      <th>1</th>\n",
              "      <td>1.0</td>\n",
              "      <td>2013-01-02</td>\n",
              "      <td>1.0</td>\n",
              "      <td>3</td>\n",
              "      <td>train</td>\n",
              "      <td>foo</td>\n",
              "    </tr>\n",
              "    <tr>\n",
              "      <th>2</th>\n",
              "      <td>1.0</td>\n",
              "      <td>2013-01-02</td>\n",
              "      <td>1.0</td>\n",
              "      <td>3</td>\n",
              "      <td>test</td>\n",
              "      <td>foo</td>\n",
              "    </tr>\n",
              "    <tr>\n",
              "      <th>3</th>\n",
              "      <td>1.0</td>\n",
              "      <td>2013-01-02</td>\n",
              "      <td>1.0</td>\n",
              "      <td>3</td>\n",
              "      <td>train</td>\n",
              "      <td>foo</td>\n",
              "    </tr>\n",
              "  </tbody>\n",
              "</table>\n",
              "</div>"
            ],
            "text/plain": [
              "     A          B    C  D      E    F\n",
              "0  1.0 2013-01-02  1.0  3   test  foo\n",
              "1  1.0 2013-01-02  1.0  3  train  foo\n",
              "2  1.0 2013-01-02  1.0  3   test  foo\n",
              "3  1.0 2013-01-02  1.0  3  train  foo"
            ]
          },
          "metadata": {
            "tags": []
          },
          "execution_count": 26
        }
      ]
    },
    {
      "metadata": {
        "id": "JC6SFoO3zqdk",
        "colab_type": "text"
      },
      "cell_type": "markdown",
      "source": [
        "The columns of the resulting DataFrame have different [dtypes](http://pandas.pydata.org/pandas-docs/stable/basics.html#basics-dtypes)."
      ]
    },
    {
      "metadata": {
        "id": "UEKTXjblzyqW",
        "colab_type": "code",
        "colab": {
          "base_uri": "https://localhost:8080/",
          "height": 136
        },
        "outputId": "a9ca5234-221d-4687-e5c0-aacca44c5701"
      },
      "cell_type": "code",
      "source": [
        "df2.dtypes"
      ],
      "execution_count": 27,
      "outputs": [
        {
          "output_type": "execute_result",
          "data": {
            "text/plain": [
              "A           float64\n",
              "B    datetime64[ns]\n",
              "C           float32\n",
              "D             int32\n",
              "E          category\n",
              "F            object\n",
              "dtype: object"
            ]
          },
          "metadata": {
            "tags": []
          },
          "execution_count": 27
        }
      ]
    },
    {
      "metadata": {
        "id": "kY56FTE10JgE",
        "colab_type": "text"
      },
      "cell_type": "markdown",
      "source": [
        "If you’re using IPython, tab completion for column names (as well as public attributes) is automatically enabled. Here’s a subset of the attributes that will be completed:\n",
        "\n",
        "ex.df2. and push TAB"
      ]
    },
    {
      "metadata": {
        "id": "IioIOrGd1Gbe",
        "colab_type": "text"
      },
      "cell_type": "markdown",
      "source": [
        "## Viewing Data\n",
        "\n",
        "See the [Basics section](http://pandas.pydata.org/pandas-docs/stable/basics.html#basics)."
      ]
    },
    {
      "metadata": {
        "id": "BT9KqdQO1aIY",
        "colab_type": "text"
      },
      "cell_type": "markdown",
      "source": [
        "Here is how to view the top and bottom rows of the frame:"
      ]
    },
    {
      "metadata": {
        "id": "LGow12oH1gO2",
        "colab_type": "code",
        "colab": {
          "base_uri": "https://localhost:8080/",
          "height": 204
        },
        "outputId": "4ced2c48-6c3c-4be6-8486-fa764750d8bb"
      },
      "cell_type": "code",
      "source": [
        "df.head()"
      ],
      "execution_count": 28,
      "outputs": [
        {
          "output_type": "execute_result",
          "data": {
            "text/html": [
              "<div>\n",
              "<style scoped>\n",
              "    .dataframe tbody tr th:only-of-type {\n",
              "        vertical-align: middle;\n",
              "    }\n",
              "\n",
              "    .dataframe tbody tr th {\n",
              "        vertical-align: top;\n",
              "    }\n",
              "\n",
              "    .dataframe thead th {\n",
              "        text-align: right;\n",
              "    }\n",
              "</style>\n",
              "<table border=\"1\" class=\"dataframe\">\n",
              "  <thead>\n",
              "    <tr style=\"text-align: right;\">\n",
              "      <th></th>\n",
              "      <th>A</th>\n",
              "      <th>B</th>\n",
              "      <th>C</th>\n",
              "      <th>D</th>\n",
              "    </tr>\n",
              "  </thead>\n",
              "  <tbody>\n",
              "    <tr>\n",
              "      <th>2013-01-01</th>\n",
              "      <td>2.000807</td>\n",
              "      <td>-0.282388</td>\n",
              "      <td>-1.021859</td>\n",
              "      <td>1.198851</td>\n",
              "    </tr>\n",
              "    <tr>\n",
              "      <th>2013-01-02</th>\n",
              "      <td>0.614508</td>\n",
              "      <td>-0.797851</td>\n",
              "      <td>-0.092841</td>\n",
              "      <td>1.558510</td>\n",
              "    </tr>\n",
              "    <tr>\n",
              "      <th>2013-01-03</th>\n",
              "      <td>-0.006184</td>\n",
              "      <td>0.505052</td>\n",
              "      <td>-0.581988</td>\n",
              "      <td>-0.899587</td>\n",
              "    </tr>\n",
              "    <tr>\n",
              "      <th>2013-01-04</th>\n",
              "      <td>0.079399</td>\n",
              "      <td>0.604562</td>\n",
              "      <td>-0.311265</td>\n",
              "      <td>2.054056</td>\n",
              "    </tr>\n",
              "    <tr>\n",
              "      <th>2013-01-05</th>\n",
              "      <td>0.976353</td>\n",
              "      <td>-1.571641</td>\n",
              "      <td>0.903299</td>\n",
              "      <td>0.414633</td>\n",
              "    </tr>\n",
              "  </tbody>\n",
              "</table>\n",
              "</div>"
            ],
            "text/plain": [
              "                   A         B         C         D\n",
              "2013-01-01  2.000807 -0.282388 -1.021859  1.198851\n",
              "2013-01-02  0.614508 -0.797851 -0.092841  1.558510\n",
              "2013-01-03 -0.006184  0.505052 -0.581988 -0.899587\n",
              "2013-01-04  0.079399  0.604562 -0.311265  2.054056\n",
              "2013-01-05  0.976353 -1.571641  0.903299  0.414633"
            ]
          },
          "metadata": {
            "tags": []
          },
          "execution_count": 28
        }
      ]
    },
    {
      "metadata": {
        "id": "6hamC8Fq1kPQ",
        "colab_type": "code",
        "colab": {
          "base_uri": "https://localhost:8080/",
          "height": 142
        },
        "outputId": "c3a52512-1a5c-4b5a-9334-9d81f77f0daf"
      },
      "cell_type": "code",
      "source": [
        "df.tail(3)"
      ],
      "execution_count": 29,
      "outputs": [
        {
          "output_type": "execute_result",
          "data": {
            "text/html": [
              "<div>\n",
              "<style scoped>\n",
              "    .dataframe tbody tr th:only-of-type {\n",
              "        vertical-align: middle;\n",
              "    }\n",
              "\n",
              "    .dataframe tbody tr th {\n",
              "        vertical-align: top;\n",
              "    }\n",
              "\n",
              "    .dataframe thead th {\n",
              "        text-align: right;\n",
              "    }\n",
              "</style>\n",
              "<table border=\"1\" class=\"dataframe\">\n",
              "  <thead>\n",
              "    <tr style=\"text-align: right;\">\n",
              "      <th></th>\n",
              "      <th>A</th>\n",
              "      <th>B</th>\n",
              "      <th>C</th>\n",
              "      <th>D</th>\n",
              "    </tr>\n",
              "  </thead>\n",
              "  <tbody>\n",
              "    <tr>\n",
              "      <th>2013-01-04</th>\n",
              "      <td>0.079399</td>\n",
              "      <td>0.604562</td>\n",
              "      <td>-0.311265</td>\n",
              "      <td>2.054056</td>\n",
              "    </tr>\n",
              "    <tr>\n",
              "      <th>2013-01-05</th>\n",
              "      <td>0.976353</td>\n",
              "      <td>-1.571641</td>\n",
              "      <td>0.903299</td>\n",
              "      <td>0.414633</td>\n",
              "    </tr>\n",
              "    <tr>\n",
              "      <th>2013-01-06</th>\n",
              "      <td>0.468047</td>\n",
              "      <td>1.646429</td>\n",
              "      <td>-0.986111</td>\n",
              "      <td>-0.470343</td>\n",
              "    </tr>\n",
              "  </tbody>\n",
              "</table>\n",
              "</div>"
            ],
            "text/plain": [
              "                   A         B         C         D\n",
              "2013-01-04  0.079399  0.604562 -0.311265  2.054056\n",
              "2013-01-05  0.976353 -1.571641  0.903299  0.414633\n",
              "2013-01-06  0.468047  1.646429 -0.986111 -0.470343"
            ]
          },
          "metadata": {
            "tags": []
          },
          "execution_count": 29
        }
      ]
    },
    {
      "metadata": {
        "id": "ME2h1CFb1thw",
        "colab_type": "text"
      },
      "cell_type": "markdown",
      "source": [
        "Display the index, columns, and the underlying NumPy data:"
      ]
    },
    {
      "metadata": {
        "id": "y11fxCF-10W0",
        "colab_type": "code",
        "colab": {
          "base_uri": "https://localhost:8080/",
          "height": 68
        },
        "outputId": "75e2fdae-d2ed-41dd-c0ab-9d46238321c4"
      },
      "cell_type": "code",
      "source": [
        "df.index"
      ],
      "execution_count": 30,
      "outputs": [
        {
          "output_type": "execute_result",
          "data": {
            "text/plain": [
              "DatetimeIndex(['2013-01-01', '2013-01-02', '2013-01-03', '2013-01-04',\n",
              "               '2013-01-05', '2013-01-06'],\n",
              "              dtype='datetime64[ns]', freq='D')"
            ]
          },
          "metadata": {
            "tags": []
          },
          "execution_count": 30
        }
      ]
    },
    {
      "metadata": {
        "id": "wBEz2Ocm15au",
        "colab_type": "code",
        "colab": {
          "base_uri": "https://localhost:8080/",
          "height": 34
        },
        "outputId": "5140ae8e-a345-4d0f-8ac6-a4add1d57e20"
      },
      "cell_type": "code",
      "source": [
        "df.columns"
      ],
      "execution_count": 31,
      "outputs": [
        {
          "output_type": "execute_result",
          "data": {
            "text/plain": [
              "Index(['A', 'B', 'C', 'D'], dtype='object')"
            ]
          },
          "metadata": {
            "tags": []
          },
          "execution_count": 31
        }
      ]
    },
    {
      "metadata": {
        "id": "YcptYsuW2Bgl",
        "colab_type": "code",
        "colab": {
          "base_uri": "https://localhost:8080/",
          "height": 119
        },
        "outputId": "960ba595-2f2a-402f-d8ab-3f5d0d5138f2"
      },
      "cell_type": "code",
      "source": [
        "df.values"
      ],
      "execution_count": 32,
      "outputs": [
        {
          "output_type": "execute_result",
          "data": {
            "text/plain": [
              "array([[ 2.0008068 , -0.28238766, -1.02185854,  1.19885143],\n",
              "       [ 0.6145078 , -0.79785103, -0.09284139,  1.55851004],\n",
              "       [-0.00618381,  0.50505177, -0.58198847, -0.89958678],\n",
              "       [ 0.07939945,  0.60456234, -0.3112653 ,  2.05405633],\n",
              "       [ 0.97635338, -1.5716412 ,  0.90329868,  0.41463334],\n",
              "       [ 0.4680473 ,  1.64642891, -0.98611145, -0.47034346]])"
            ]
          },
          "metadata": {
            "tags": []
          },
          "execution_count": 32
        }
      ]
    },
    {
      "metadata": {
        "id": "EUgEF0D-2Jsp",
        "colab_type": "text"
      },
      "cell_type": "markdown",
      "source": [
        "[describe](http://pandas.pydata.org/pandas-docs/stable/generated/pandas.DataFrame.describe.html#pandas.DataFrame.describe)()\n",
        "shows a quick statistic summary of your data:"
      ]
    },
    {
      "metadata": {
        "id": "CEj-PeAe3LuS",
        "colab_type": "code",
        "colab": {
          "base_uri": "https://localhost:8080/",
          "height": 297
        },
        "outputId": "6a9e13fa-5e6c-4712-e2fa-d038e8363298"
      },
      "cell_type": "code",
      "source": [
        "df.describe()"
      ],
      "execution_count": 33,
      "outputs": [
        {
          "output_type": "execute_result",
          "data": {
            "text/html": [
              "<div>\n",
              "<style scoped>\n",
              "    .dataframe tbody tr th:only-of-type {\n",
              "        vertical-align: middle;\n",
              "    }\n",
              "\n",
              "    .dataframe tbody tr th {\n",
              "        vertical-align: top;\n",
              "    }\n",
              "\n",
              "    .dataframe thead th {\n",
              "        text-align: right;\n",
              "    }\n",
              "</style>\n",
              "<table border=\"1\" class=\"dataframe\">\n",
              "  <thead>\n",
              "    <tr style=\"text-align: right;\">\n",
              "      <th></th>\n",
              "      <th>A</th>\n",
              "      <th>B</th>\n",
              "      <th>C</th>\n",
              "      <th>D</th>\n",
              "    </tr>\n",
              "  </thead>\n",
              "  <tbody>\n",
              "    <tr>\n",
              "      <th>count</th>\n",
              "      <td>6.000000</td>\n",
              "      <td>6.000000</td>\n",
              "      <td>6.000000</td>\n",
              "      <td>6.000000</td>\n",
              "    </tr>\n",
              "    <tr>\n",
              "      <th>mean</th>\n",
              "      <td>0.688822</td>\n",
              "      <td>0.017361</td>\n",
              "      <td>-0.348461</td>\n",
              "      <td>0.642687</td>\n",
              "    </tr>\n",
              "    <tr>\n",
              "      <th>std</th>\n",
              "      <td>0.736569</td>\n",
              "      <td>1.141565</td>\n",
              "      <td>0.713894</td>\n",
              "      <td>1.167002</td>\n",
              "    </tr>\n",
              "    <tr>\n",
              "      <th>min</th>\n",
              "      <td>-0.006184</td>\n",
              "      <td>-1.571641</td>\n",
              "      <td>-1.021859</td>\n",
              "      <td>-0.899587</td>\n",
              "    </tr>\n",
              "    <tr>\n",
              "      <th>25%</th>\n",
              "      <td>0.176561</td>\n",
              "      <td>-0.668985</td>\n",
              "      <td>-0.885081</td>\n",
              "      <td>-0.249099</td>\n",
              "    </tr>\n",
              "    <tr>\n",
              "      <th>50%</th>\n",
              "      <td>0.541278</td>\n",
              "      <td>0.111332</td>\n",
              "      <td>-0.446627</td>\n",
              "      <td>0.806742</td>\n",
              "    </tr>\n",
              "    <tr>\n",
              "      <th>75%</th>\n",
              "      <td>0.885892</td>\n",
              "      <td>0.579685</td>\n",
              "      <td>-0.147447</td>\n",
              "      <td>1.468595</td>\n",
              "    </tr>\n",
              "    <tr>\n",
              "      <th>max</th>\n",
              "      <td>2.000807</td>\n",
              "      <td>1.646429</td>\n",
              "      <td>0.903299</td>\n",
              "      <td>2.054056</td>\n",
              "    </tr>\n",
              "  </tbody>\n",
              "</table>\n",
              "</div>"
            ],
            "text/plain": [
              "              A         B         C         D\n",
              "count  6.000000  6.000000  6.000000  6.000000\n",
              "mean   0.688822  0.017361 -0.348461  0.642687\n",
              "std    0.736569  1.141565  0.713894  1.167002\n",
              "min   -0.006184 -1.571641 -1.021859 -0.899587\n",
              "25%    0.176561 -0.668985 -0.885081 -0.249099\n",
              "50%    0.541278  0.111332 -0.446627  0.806742\n",
              "75%    0.885892  0.579685 -0.147447  1.468595\n",
              "max    2.000807  1.646429  0.903299  2.054056"
            ]
          },
          "metadata": {
            "tags": []
          },
          "execution_count": 33
        }
      ]
    },
    {
      "metadata": {
        "id": "69qgI3N73QjK",
        "colab_type": "text"
      },
      "cell_type": "markdown",
      "source": [
        "Transposing your data:"
      ]
    },
    {
      "metadata": {
        "id": "lb6SKXZj3T3o",
        "colab_type": "code",
        "colab": {
          "base_uri": "https://localhost:8080/",
          "height": 173
        },
        "outputId": "fae53f11-4640-46d1-aad3-4144ea2ba132"
      },
      "cell_type": "code",
      "source": [
        "df.T"
      ],
      "execution_count": 34,
      "outputs": [
        {
          "output_type": "execute_result",
          "data": {
            "text/html": [
              "<div>\n",
              "<style scoped>\n",
              "    .dataframe tbody tr th:only-of-type {\n",
              "        vertical-align: middle;\n",
              "    }\n",
              "\n",
              "    .dataframe tbody tr th {\n",
              "        vertical-align: top;\n",
              "    }\n",
              "\n",
              "    .dataframe thead th {\n",
              "        text-align: right;\n",
              "    }\n",
              "</style>\n",
              "<table border=\"1\" class=\"dataframe\">\n",
              "  <thead>\n",
              "    <tr style=\"text-align: right;\">\n",
              "      <th></th>\n",
              "      <th>2013-01-01 00:00:00</th>\n",
              "      <th>2013-01-02 00:00:00</th>\n",
              "      <th>2013-01-03 00:00:00</th>\n",
              "      <th>2013-01-04 00:00:00</th>\n",
              "      <th>2013-01-05 00:00:00</th>\n",
              "      <th>2013-01-06 00:00:00</th>\n",
              "    </tr>\n",
              "  </thead>\n",
              "  <tbody>\n",
              "    <tr>\n",
              "      <th>A</th>\n",
              "      <td>2.000807</td>\n",
              "      <td>0.614508</td>\n",
              "      <td>-0.006184</td>\n",
              "      <td>0.079399</td>\n",
              "      <td>0.976353</td>\n",
              "      <td>0.468047</td>\n",
              "    </tr>\n",
              "    <tr>\n",
              "      <th>B</th>\n",
              "      <td>-0.282388</td>\n",
              "      <td>-0.797851</td>\n",
              "      <td>0.505052</td>\n",
              "      <td>0.604562</td>\n",
              "      <td>-1.571641</td>\n",
              "      <td>1.646429</td>\n",
              "    </tr>\n",
              "    <tr>\n",
              "      <th>C</th>\n",
              "      <td>-1.021859</td>\n",
              "      <td>-0.092841</td>\n",
              "      <td>-0.581988</td>\n",
              "      <td>-0.311265</td>\n",
              "      <td>0.903299</td>\n",
              "      <td>-0.986111</td>\n",
              "    </tr>\n",
              "    <tr>\n",
              "      <th>D</th>\n",
              "      <td>1.198851</td>\n",
              "      <td>1.558510</td>\n",
              "      <td>-0.899587</td>\n",
              "      <td>2.054056</td>\n",
              "      <td>0.414633</td>\n",
              "      <td>-0.470343</td>\n",
              "    </tr>\n",
              "  </tbody>\n",
              "</table>\n",
              "</div>"
            ],
            "text/plain": [
              "   2013-01-01  2013-01-02  2013-01-03  2013-01-04  2013-01-05  2013-01-06\n",
              "A    2.000807    0.614508   -0.006184    0.079399    0.976353    0.468047\n",
              "B   -0.282388   -0.797851    0.505052    0.604562   -1.571641    1.646429\n",
              "C   -1.021859   -0.092841   -0.581988   -0.311265    0.903299   -0.986111\n",
              "D    1.198851    1.558510   -0.899587    2.054056    0.414633   -0.470343"
            ]
          },
          "metadata": {
            "tags": []
          },
          "execution_count": 34
        }
      ]
    },
    {
      "metadata": {
        "id": "TEsa1nK7CLk6",
        "colab_type": "text"
      },
      "cell_type": "markdown",
      "source": [
        "Sorting by an axis:"
      ]
    },
    {
      "metadata": {
        "id": "9vMkWqlhCPDS",
        "colab_type": "code",
        "colab": {
          "base_uri": "https://localhost:8080/",
          "height": 235
        },
        "outputId": "f763c17a-8e26-49e3-ab8d-a6d5bcce9b5c"
      },
      "cell_type": "code",
      "source": [
        "df.sort_index(axis=1, ascending=False)"
      ],
      "execution_count": 35,
      "outputs": [
        {
          "output_type": "execute_result",
          "data": {
            "text/html": [
              "<div>\n",
              "<style scoped>\n",
              "    .dataframe tbody tr th:only-of-type {\n",
              "        vertical-align: middle;\n",
              "    }\n",
              "\n",
              "    .dataframe tbody tr th {\n",
              "        vertical-align: top;\n",
              "    }\n",
              "\n",
              "    .dataframe thead th {\n",
              "        text-align: right;\n",
              "    }\n",
              "</style>\n",
              "<table border=\"1\" class=\"dataframe\">\n",
              "  <thead>\n",
              "    <tr style=\"text-align: right;\">\n",
              "      <th></th>\n",
              "      <th>D</th>\n",
              "      <th>C</th>\n",
              "      <th>B</th>\n",
              "      <th>A</th>\n",
              "    </tr>\n",
              "  </thead>\n",
              "  <tbody>\n",
              "    <tr>\n",
              "      <th>2013-01-01</th>\n",
              "      <td>1.198851</td>\n",
              "      <td>-1.021859</td>\n",
              "      <td>-0.282388</td>\n",
              "      <td>2.000807</td>\n",
              "    </tr>\n",
              "    <tr>\n",
              "      <th>2013-01-02</th>\n",
              "      <td>1.558510</td>\n",
              "      <td>-0.092841</td>\n",
              "      <td>-0.797851</td>\n",
              "      <td>0.614508</td>\n",
              "    </tr>\n",
              "    <tr>\n",
              "      <th>2013-01-03</th>\n",
              "      <td>-0.899587</td>\n",
              "      <td>-0.581988</td>\n",
              "      <td>0.505052</td>\n",
              "      <td>-0.006184</td>\n",
              "    </tr>\n",
              "    <tr>\n",
              "      <th>2013-01-04</th>\n",
              "      <td>2.054056</td>\n",
              "      <td>-0.311265</td>\n",
              "      <td>0.604562</td>\n",
              "      <td>0.079399</td>\n",
              "    </tr>\n",
              "    <tr>\n",
              "      <th>2013-01-05</th>\n",
              "      <td>0.414633</td>\n",
              "      <td>0.903299</td>\n",
              "      <td>-1.571641</td>\n",
              "      <td>0.976353</td>\n",
              "    </tr>\n",
              "    <tr>\n",
              "      <th>2013-01-06</th>\n",
              "      <td>-0.470343</td>\n",
              "      <td>-0.986111</td>\n",
              "      <td>1.646429</td>\n",
              "      <td>0.468047</td>\n",
              "    </tr>\n",
              "  </tbody>\n",
              "</table>\n",
              "</div>"
            ],
            "text/plain": [
              "                   D         C         B         A\n",
              "2013-01-01  1.198851 -1.021859 -0.282388  2.000807\n",
              "2013-01-02  1.558510 -0.092841 -0.797851  0.614508\n",
              "2013-01-03 -0.899587 -0.581988  0.505052 -0.006184\n",
              "2013-01-04  2.054056 -0.311265  0.604562  0.079399\n",
              "2013-01-05  0.414633  0.903299 -1.571641  0.976353\n",
              "2013-01-06 -0.470343 -0.986111  1.646429  0.468047"
            ]
          },
          "metadata": {
            "tags": []
          },
          "execution_count": 35
        }
      ]
    },
    {
      "metadata": {
        "id": "uujhz8hzCW9Q",
        "colab_type": "text"
      },
      "cell_type": "markdown",
      "source": [
        "Sorting by values:"
      ]
    },
    {
      "metadata": {
        "id": "c4LlDheiCapf",
        "colab_type": "code",
        "colab": {
          "base_uri": "https://localhost:8080/",
          "height": 235
        },
        "outputId": "0df324e4-17cf-4401-dcb9-8cdd63c17f96"
      },
      "cell_type": "code",
      "source": [
        "df.sort_values(by='B')"
      ],
      "execution_count": 36,
      "outputs": [
        {
          "output_type": "execute_result",
          "data": {
            "text/html": [
              "<div>\n",
              "<style scoped>\n",
              "    .dataframe tbody tr th:only-of-type {\n",
              "        vertical-align: middle;\n",
              "    }\n",
              "\n",
              "    .dataframe tbody tr th {\n",
              "        vertical-align: top;\n",
              "    }\n",
              "\n",
              "    .dataframe thead th {\n",
              "        text-align: right;\n",
              "    }\n",
              "</style>\n",
              "<table border=\"1\" class=\"dataframe\">\n",
              "  <thead>\n",
              "    <tr style=\"text-align: right;\">\n",
              "      <th></th>\n",
              "      <th>A</th>\n",
              "      <th>B</th>\n",
              "      <th>C</th>\n",
              "      <th>D</th>\n",
              "    </tr>\n",
              "  </thead>\n",
              "  <tbody>\n",
              "    <tr>\n",
              "      <th>2013-01-05</th>\n",
              "      <td>0.976353</td>\n",
              "      <td>-1.571641</td>\n",
              "      <td>0.903299</td>\n",
              "      <td>0.414633</td>\n",
              "    </tr>\n",
              "    <tr>\n",
              "      <th>2013-01-02</th>\n",
              "      <td>0.614508</td>\n",
              "      <td>-0.797851</td>\n",
              "      <td>-0.092841</td>\n",
              "      <td>1.558510</td>\n",
              "    </tr>\n",
              "    <tr>\n",
              "      <th>2013-01-01</th>\n",
              "      <td>2.000807</td>\n",
              "      <td>-0.282388</td>\n",
              "      <td>-1.021859</td>\n",
              "      <td>1.198851</td>\n",
              "    </tr>\n",
              "    <tr>\n",
              "      <th>2013-01-03</th>\n",
              "      <td>-0.006184</td>\n",
              "      <td>0.505052</td>\n",
              "      <td>-0.581988</td>\n",
              "      <td>-0.899587</td>\n",
              "    </tr>\n",
              "    <tr>\n",
              "      <th>2013-01-04</th>\n",
              "      <td>0.079399</td>\n",
              "      <td>0.604562</td>\n",
              "      <td>-0.311265</td>\n",
              "      <td>2.054056</td>\n",
              "    </tr>\n",
              "    <tr>\n",
              "      <th>2013-01-06</th>\n",
              "      <td>0.468047</td>\n",
              "      <td>1.646429</td>\n",
              "      <td>-0.986111</td>\n",
              "      <td>-0.470343</td>\n",
              "    </tr>\n",
              "  </tbody>\n",
              "</table>\n",
              "</div>"
            ],
            "text/plain": [
              "                   A         B         C         D\n",
              "2013-01-05  0.976353 -1.571641  0.903299  0.414633\n",
              "2013-01-02  0.614508 -0.797851 -0.092841  1.558510\n",
              "2013-01-01  2.000807 -0.282388 -1.021859  1.198851\n",
              "2013-01-03 -0.006184  0.505052 -0.581988 -0.899587\n",
              "2013-01-04  0.079399  0.604562 -0.311265  2.054056\n",
              "2013-01-06  0.468047  1.646429 -0.986111 -0.470343"
            ]
          },
          "metadata": {
            "tags": []
          },
          "execution_count": 36
        }
      ]
    },
    {
      "metadata": {
        "id": "zW1qbdmSCkcU",
        "colab_type": "text"
      },
      "cell_type": "markdown",
      "source": [
        "## Selection\n",
        "\n",
        "**Note **While standard Python / Numpy expressions for selecting and setting are intuitive and come in handy for interactive work, for production code, we recommend the optimized pandas data access methods, .at, .iat, .loc and .iloc.\n",
        "\n",
        "See the indexing documentation Indexing and Selecting Data and MultiIndex / Advanced Indexing."
      ]
    },
    {
      "metadata": {
        "id": "LKCaxfCUDTA9",
        "colab_type": "text"
      },
      "cell_type": "markdown",
      "source": [
        "### Getting\n",
        "\n",
        "Selecting a single column, which yields a Series, equivalent to df.A:"
      ]
    },
    {
      "metadata": {
        "id": "KIv7yE3YDfUZ",
        "colab_type": "code",
        "colab": {
          "base_uri": "https://localhost:8080/",
          "height": 136
        },
        "outputId": "b452f359-fd8c-4c46-988c-2595320ab4fb"
      },
      "cell_type": "code",
      "source": [
        "df['A']"
      ],
      "execution_count": 37,
      "outputs": [
        {
          "output_type": "execute_result",
          "data": {
            "text/plain": [
              "2013-01-01    2.000807\n",
              "2013-01-02    0.614508\n",
              "2013-01-03   -0.006184\n",
              "2013-01-04    0.079399\n",
              "2013-01-05    0.976353\n",
              "2013-01-06    0.468047\n",
              "Freq: D, Name: A, dtype: float64"
            ]
          },
          "metadata": {
            "tags": []
          },
          "execution_count": 37
        }
      ]
    },
    {
      "metadata": {
        "id": "7OdaS80FDkYs",
        "colab_type": "text"
      },
      "cell_type": "markdown",
      "source": [
        "Selecting via [], which slices the rows."
      ]
    },
    {
      "metadata": {
        "id": "Dt6OzCNCDnx-",
        "colab_type": "code",
        "colab": {
          "base_uri": "https://localhost:8080/",
          "height": 142
        },
        "outputId": "4b85c900-ba77-4a94-a9ae-291ad5c95b91"
      },
      "cell_type": "code",
      "source": [
        "df[0:3]"
      ],
      "execution_count": 38,
      "outputs": [
        {
          "output_type": "execute_result",
          "data": {
            "text/html": [
              "<div>\n",
              "<style scoped>\n",
              "    .dataframe tbody tr th:only-of-type {\n",
              "        vertical-align: middle;\n",
              "    }\n",
              "\n",
              "    .dataframe tbody tr th {\n",
              "        vertical-align: top;\n",
              "    }\n",
              "\n",
              "    .dataframe thead th {\n",
              "        text-align: right;\n",
              "    }\n",
              "</style>\n",
              "<table border=\"1\" class=\"dataframe\">\n",
              "  <thead>\n",
              "    <tr style=\"text-align: right;\">\n",
              "      <th></th>\n",
              "      <th>A</th>\n",
              "      <th>B</th>\n",
              "      <th>C</th>\n",
              "      <th>D</th>\n",
              "    </tr>\n",
              "  </thead>\n",
              "  <tbody>\n",
              "    <tr>\n",
              "      <th>2013-01-01</th>\n",
              "      <td>2.000807</td>\n",
              "      <td>-0.282388</td>\n",
              "      <td>-1.021859</td>\n",
              "      <td>1.198851</td>\n",
              "    </tr>\n",
              "    <tr>\n",
              "      <th>2013-01-02</th>\n",
              "      <td>0.614508</td>\n",
              "      <td>-0.797851</td>\n",
              "      <td>-0.092841</td>\n",
              "      <td>1.558510</td>\n",
              "    </tr>\n",
              "    <tr>\n",
              "      <th>2013-01-03</th>\n",
              "      <td>-0.006184</td>\n",
              "      <td>0.505052</td>\n",
              "      <td>-0.581988</td>\n",
              "      <td>-0.899587</td>\n",
              "    </tr>\n",
              "  </tbody>\n",
              "</table>\n",
              "</div>"
            ],
            "text/plain": [
              "                   A         B         C         D\n",
              "2013-01-01  2.000807 -0.282388 -1.021859  1.198851\n",
              "2013-01-02  0.614508 -0.797851 -0.092841  1.558510\n",
              "2013-01-03 -0.006184  0.505052 -0.581988 -0.899587"
            ]
          },
          "metadata": {
            "tags": []
          },
          "execution_count": 38
        }
      ]
    },
    {
      "metadata": {
        "id": "nKrdG-SKDuj2",
        "colab_type": "code",
        "colab": {
          "base_uri": "https://localhost:8080/",
          "height": 142
        },
        "outputId": "eaf8f263-20b6-4538-ae14-368374b8dcb0"
      },
      "cell_type": "code",
      "source": [
        "df['20130102':'20130104']"
      ],
      "execution_count": 39,
      "outputs": [
        {
          "output_type": "execute_result",
          "data": {
            "text/html": [
              "<div>\n",
              "<style scoped>\n",
              "    .dataframe tbody tr th:only-of-type {\n",
              "        vertical-align: middle;\n",
              "    }\n",
              "\n",
              "    .dataframe tbody tr th {\n",
              "        vertical-align: top;\n",
              "    }\n",
              "\n",
              "    .dataframe thead th {\n",
              "        text-align: right;\n",
              "    }\n",
              "</style>\n",
              "<table border=\"1\" class=\"dataframe\">\n",
              "  <thead>\n",
              "    <tr style=\"text-align: right;\">\n",
              "      <th></th>\n",
              "      <th>A</th>\n",
              "      <th>B</th>\n",
              "      <th>C</th>\n",
              "      <th>D</th>\n",
              "    </tr>\n",
              "  </thead>\n",
              "  <tbody>\n",
              "    <tr>\n",
              "      <th>2013-01-02</th>\n",
              "      <td>0.614508</td>\n",
              "      <td>-0.797851</td>\n",
              "      <td>-0.092841</td>\n",
              "      <td>1.558510</td>\n",
              "    </tr>\n",
              "    <tr>\n",
              "      <th>2013-01-03</th>\n",
              "      <td>-0.006184</td>\n",
              "      <td>0.505052</td>\n",
              "      <td>-0.581988</td>\n",
              "      <td>-0.899587</td>\n",
              "    </tr>\n",
              "    <tr>\n",
              "      <th>2013-01-04</th>\n",
              "      <td>0.079399</td>\n",
              "      <td>0.604562</td>\n",
              "      <td>-0.311265</td>\n",
              "      <td>2.054056</td>\n",
              "    </tr>\n",
              "  </tbody>\n",
              "</table>\n",
              "</div>"
            ],
            "text/plain": [
              "                   A         B         C         D\n",
              "2013-01-02  0.614508 -0.797851 -0.092841  1.558510\n",
              "2013-01-03 -0.006184  0.505052 -0.581988 -0.899587\n",
              "2013-01-04  0.079399  0.604562 -0.311265  2.054056"
            ]
          },
          "metadata": {
            "tags": []
          },
          "execution_count": 39
        }
      ]
    },
    {
      "metadata": {
        "id": "De4dJiHAD6p0",
        "colab_type": "text"
      },
      "cell_type": "markdown",
      "source": [
        "### Selection by Label\n",
        "\n",
        "See more in [Selection by Label.](http://pandas.pydata.org/pandas-docs/stable/indexing.html#indexing-label)\n",
        "\n",
        "For getting a cross section using a label:"
      ]
    },
    {
      "metadata": {
        "id": "4ms-2PtNEPuu",
        "colab_type": "code",
        "colab": {
          "base_uri": "https://localhost:8080/",
          "height": 102
        },
        "outputId": "d7caf327-f85f-4413-a9b7-565fef573640"
      },
      "cell_type": "code",
      "source": [
        "df.loc[dates[0]]"
      ],
      "execution_count": 40,
      "outputs": [
        {
          "output_type": "execute_result",
          "data": {
            "text/plain": [
              "A    2.000807\n",
              "B   -0.282388\n",
              "C   -1.021859\n",
              "D    1.198851\n",
              "Name: 2013-01-01 00:00:00, dtype: float64"
            ]
          },
          "metadata": {
            "tags": []
          },
          "execution_count": 40
        }
      ]
    },
    {
      "metadata": {
        "id": "NlVm4qhqEmuq",
        "colab_type": "text"
      },
      "cell_type": "markdown",
      "source": [
        "Selecting on a multi-axis by label:"
      ]
    },
    {
      "metadata": {
        "id": "Hize0TGqEprR",
        "colab_type": "code",
        "colab": {
          "base_uri": "https://localhost:8080/",
          "height": 235
        },
        "outputId": "204da04b-709e-4add-9c12-0604c6369a0e"
      },
      "cell_type": "code",
      "source": [
        "df.loc[:,['A','B']]"
      ],
      "execution_count": 41,
      "outputs": [
        {
          "output_type": "execute_result",
          "data": {
            "text/html": [
              "<div>\n",
              "<style scoped>\n",
              "    .dataframe tbody tr th:only-of-type {\n",
              "        vertical-align: middle;\n",
              "    }\n",
              "\n",
              "    .dataframe tbody tr th {\n",
              "        vertical-align: top;\n",
              "    }\n",
              "\n",
              "    .dataframe thead th {\n",
              "        text-align: right;\n",
              "    }\n",
              "</style>\n",
              "<table border=\"1\" class=\"dataframe\">\n",
              "  <thead>\n",
              "    <tr style=\"text-align: right;\">\n",
              "      <th></th>\n",
              "      <th>A</th>\n",
              "      <th>B</th>\n",
              "    </tr>\n",
              "  </thead>\n",
              "  <tbody>\n",
              "    <tr>\n",
              "      <th>2013-01-01</th>\n",
              "      <td>2.000807</td>\n",
              "      <td>-0.282388</td>\n",
              "    </tr>\n",
              "    <tr>\n",
              "      <th>2013-01-02</th>\n",
              "      <td>0.614508</td>\n",
              "      <td>-0.797851</td>\n",
              "    </tr>\n",
              "    <tr>\n",
              "      <th>2013-01-03</th>\n",
              "      <td>-0.006184</td>\n",
              "      <td>0.505052</td>\n",
              "    </tr>\n",
              "    <tr>\n",
              "      <th>2013-01-04</th>\n",
              "      <td>0.079399</td>\n",
              "      <td>0.604562</td>\n",
              "    </tr>\n",
              "    <tr>\n",
              "      <th>2013-01-05</th>\n",
              "      <td>0.976353</td>\n",
              "      <td>-1.571641</td>\n",
              "    </tr>\n",
              "    <tr>\n",
              "      <th>2013-01-06</th>\n",
              "      <td>0.468047</td>\n",
              "      <td>1.646429</td>\n",
              "    </tr>\n",
              "  </tbody>\n",
              "</table>\n",
              "</div>"
            ],
            "text/plain": [
              "                   A         B\n",
              "2013-01-01  2.000807 -0.282388\n",
              "2013-01-02  0.614508 -0.797851\n",
              "2013-01-03 -0.006184  0.505052\n",
              "2013-01-04  0.079399  0.604562\n",
              "2013-01-05  0.976353 -1.571641\n",
              "2013-01-06  0.468047  1.646429"
            ]
          },
          "metadata": {
            "tags": []
          },
          "execution_count": 41
        }
      ]
    },
    {
      "metadata": {
        "id": "ftdthIgrE9qF",
        "colab_type": "text"
      },
      "cell_type": "markdown",
      "source": [
        "Showing label slicing, both endpoints are included:"
      ]
    },
    {
      "metadata": {
        "id": "lBGLdk6KFDby",
        "colab_type": "code",
        "colab": {
          "base_uri": "https://localhost:8080/",
          "height": 142
        },
        "outputId": "c91b95c6-2b26-4da0-b1c3-8aac3caebd01"
      },
      "cell_type": "code",
      "source": [
        "df.loc['20130102':'20130104',['A','B']]"
      ],
      "execution_count": 42,
      "outputs": [
        {
          "output_type": "execute_result",
          "data": {
            "text/html": [
              "<div>\n",
              "<style scoped>\n",
              "    .dataframe tbody tr th:only-of-type {\n",
              "        vertical-align: middle;\n",
              "    }\n",
              "\n",
              "    .dataframe tbody tr th {\n",
              "        vertical-align: top;\n",
              "    }\n",
              "\n",
              "    .dataframe thead th {\n",
              "        text-align: right;\n",
              "    }\n",
              "</style>\n",
              "<table border=\"1\" class=\"dataframe\">\n",
              "  <thead>\n",
              "    <tr style=\"text-align: right;\">\n",
              "      <th></th>\n",
              "      <th>A</th>\n",
              "      <th>B</th>\n",
              "    </tr>\n",
              "  </thead>\n",
              "  <tbody>\n",
              "    <tr>\n",
              "      <th>2013-01-02</th>\n",
              "      <td>0.614508</td>\n",
              "      <td>-0.797851</td>\n",
              "    </tr>\n",
              "    <tr>\n",
              "      <th>2013-01-03</th>\n",
              "      <td>-0.006184</td>\n",
              "      <td>0.505052</td>\n",
              "    </tr>\n",
              "    <tr>\n",
              "      <th>2013-01-04</th>\n",
              "      <td>0.079399</td>\n",
              "      <td>0.604562</td>\n",
              "    </tr>\n",
              "  </tbody>\n",
              "</table>\n",
              "</div>"
            ],
            "text/plain": [
              "                   A         B\n",
              "2013-01-02  0.614508 -0.797851\n",
              "2013-01-03 -0.006184  0.505052\n",
              "2013-01-04  0.079399  0.604562"
            ]
          },
          "metadata": {
            "tags": []
          },
          "execution_count": 42
        }
      ]
    },
    {
      "metadata": {
        "id": "MKSuDEMCFOMZ",
        "colab_type": "text"
      },
      "cell_type": "markdown",
      "source": [
        "Reduction in the dimensions of the returned object:"
      ]
    },
    {
      "metadata": {
        "id": "ks2bYTAcFRDc",
        "colab_type": "code",
        "colab": {
          "base_uri": "https://localhost:8080/",
          "height": 68
        },
        "outputId": "2777f059-7b0a-4c9d-8d93-05bff1afd87b"
      },
      "cell_type": "code",
      "source": [
        "df.loc['20130102',['A','B']]"
      ],
      "execution_count": 43,
      "outputs": [
        {
          "output_type": "execute_result",
          "data": {
            "text/plain": [
              "A    0.614508\n",
              "B   -0.797851\n",
              "Name: 2013-01-02 00:00:00, dtype: float64"
            ]
          },
          "metadata": {
            "tags": []
          },
          "execution_count": 43
        }
      ]
    },
    {
      "metadata": {
        "id": "t7TN4oKVFaFR",
        "colab_type": "text"
      },
      "cell_type": "markdown",
      "source": [
        "For getting a scalar value:"
      ]
    },
    {
      "metadata": {
        "id": "3rWa8fkrFdrC",
        "colab_type": "code",
        "colab": {
          "base_uri": "https://localhost:8080/",
          "height": 34
        },
        "outputId": "a3c3a5a5-778c-4192-bc03-6fbf6e6bf728"
      },
      "cell_type": "code",
      "source": [
        "df.loc[dates[0],'A']"
      ],
      "execution_count": 44,
      "outputs": [
        {
          "output_type": "execute_result",
          "data": {
            "text/plain": [
              "2.000806795470844"
            ]
          },
          "metadata": {
            "tags": []
          },
          "execution_count": 44
        }
      ]
    },
    {
      "metadata": {
        "id": "fgcbqVOJFtI1",
        "colab_type": "text"
      },
      "cell_type": "markdown",
      "source": [
        "For getting fast access to a scalar (equivalent to the prior method):"
      ]
    },
    {
      "metadata": {
        "id": "nLfQuAExFwAb",
        "colab_type": "code",
        "colab": {
          "base_uri": "https://localhost:8080/",
          "height": 34
        },
        "outputId": "be62db66-6a94-4a4b-bb15-d780d441b929"
      },
      "cell_type": "code",
      "source": [
        "df.at[dates[0],'A']"
      ],
      "execution_count": 45,
      "outputs": [
        {
          "output_type": "execute_result",
          "data": {
            "text/plain": [
              "2.000806795470844"
            ]
          },
          "metadata": {
            "tags": []
          },
          "execution_count": 45
        }
      ]
    },
    {
      "metadata": {
        "id": "dHO7GVYyF88H",
        "colab_type": "text"
      },
      "cell_type": "markdown",
      "source": [
        "### Selection by Position\n",
        "\n",
        "See more in [Selection by Position](http://pandas.pydata.org/pandas-docs/stable/indexing.html#indexing-integer).\n",
        "\n",
        "Select via the position of the passed integers:"
      ]
    },
    {
      "metadata": {
        "id": "6sCUzB4nGMM4",
        "colab_type": "code",
        "colab": {
          "base_uri": "https://localhost:8080/",
          "height": 102
        },
        "outputId": "4ad06600-8bba-46b2-c108-862dfc1d28a5"
      },
      "cell_type": "code",
      "source": [
        "df.iloc[3]"
      ],
      "execution_count": 46,
      "outputs": [
        {
          "output_type": "execute_result",
          "data": {
            "text/plain": [
              "A    0.079399\n",
              "B    0.604562\n",
              "C   -0.311265\n",
              "D    2.054056\n",
              "Name: 2013-01-04 00:00:00, dtype: float64"
            ]
          },
          "metadata": {
            "tags": []
          },
          "execution_count": 46
        }
      ]
    },
    {
      "metadata": {
        "id": "zpOcmdJbGQK5",
        "colab_type": "text"
      },
      "cell_type": "markdown",
      "source": [
        "By integer slices, acting similar to numpy/python:"
      ]
    },
    {
      "metadata": {
        "id": "w_wwt8WAGU-7",
        "colab_type": "code",
        "colab": {
          "base_uri": "https://localhost:8080/",
          "height": 111
        },
        "outputId": "85f5dd13-0651-41f9-dd3f-5951071ad484"
      },
      "cell_type": "code",
      "source": [
        "df.iloc[3:5,0:2]"
      ],
      "execution_count": 47,
      "outputs": [
        {
          "output_type": "execute_result",
          "data": {
            "text/html": [
              "<div>\n",
              "<style scoped>\n",
              "    .dataframe tbody tr th:only-of-type {\n",
              "        vertical-align: middle;\n",
              "    }\n",
              "\n",
              "    .dataframe tbody tr th {\n",
              "        vertical-align: top;\n",
              "    }\n",
              "\n",
              "    .dataframe thead th {\n",
              "        text-align: right;\n",
              "    }\n",
              "</style>\n",
              "<table border=\"1\" class=\"dataframe\">\n",
              "  <thead>\n",
              "    <tr style=\"text-align: right;\">\n",
              "      <th></th>\n",
              "      <th>A</th>\n",
              "      <th>B</th>\n",
              "    </tr>\n",
              "  </thead>\n",
              "  <tbody>\n",
              "    <tr>\n",
              "      <th>2013-01-04</th>\n",
              "      <td>0.079399</td>\n",
              "      <td>0.604562</td>\n",
              "    </tr>\n",
              "    <tr>\n",
              "      <th>2013-01-05</th>\n",
              "      <td>0.976353</td>\n",
              "      <td>-1.571641</td>\n",
              "    </tr>\n",
              "  </tbody>\n",
              "</table>\n",
              "</div>"
            ],
            "text/plain": [
              "                   A         B\n",
              "2013-01-04  0.079399  0.604562\n",
              "2013-01-05  0.976353 -1.571641"
            ]
          },
          "metadata": {
            "tags": []
          },
          "execution_count": 47
        }
      ]
    },
    {
      "metadata": {
        "id": "_0_4SPCl44Bl",
        "colab_type": "text"
      },
      "cell_type": "markdown",
      "source": [
        "By lists of integer position locations, similar to the numpy/python style:"
      ]
    },
    {
      "metadata": {
        "id": "6TjakduN48gi",
        "colab_type": "code",
        "colab": {
          "base_uri": "https://localhost:8080/",
          "height": 142
        },
        "outputId": "bb07a594-6952-4a19-a0ce-d400b0257c42"
      },
      "cell_type": "code",
      "source": [
        "df.iloc[[1,2,4],[0,2]]"
      ],
      "execution_count": 48,
      "outputs": [
        {
          "output_type": "execute_result",
          "data": {
            "text/html": [
              "<div>\n",
              "<style scoped>\n",
              "    .dataframe tbody tr th:only-of-type {\n",
              "        vertical-align: middle;\n",
              "    }\n",
              "\n",
              "    .dataframe tbody tr th {\n",
              "        vertical-align: top;\n",
              "    }\n",
              "\n",
              "    .dataframe thead th {\n",
              "        text-align: right;\n",
              "    }\n",
              "</style>\n",
              "<table border=\"1\" class=\"dataframe\">\n",
              "  <thead>\n",
              "    <tr style=\"text-align: right;\">\n",
              "      <th></th>\n",
              "      <th>A</th>\n",
              "      <th>C</th>\n",
              "    </tr>\n",
              "  </thead>\n",
              "  <tbody>\n",
              "    <tr>\n",
              "      <th>2013-01-02</th>\n",
              "      <td>0.614508</td>\n",
              "      <td>-0.092841</td>\n",
              "    </tr>\n",
              "    <tr>\n",
              "      <th>2013-01-03</th>\n",
              "      <td>-0.006184</td>\n",
              "      <td>-0.581988</td>\n",
              "    </tr>\n",
              "    <tr>\n",
              "      <th>2013-01-05</th>\n",
              "      <td>0.976353</td>\n",
              "      <td>0.903299</td>\n",
              "    </tr>\n",
              "  </tbody>\n",
              "</table>\n",
              "</div>"
            ],
            "text/plain": [
              "                   A         C\n",
              "2013-01-02  0.614508 -0.092841\n",
              "2013-01-03 -0.006184 -0.581988\n",
              "2013-01-05  0.976353  0.903299"
            ]
          },
          "metadata": {
            "tags": []
          },
          "execution_count": 48
        }
      ]
    },
    {
      "metadata": {
        "id": "ut77VA116ngx",
        "colab_type": "text"
      },
      "cell_type": "markdown",
      "source": [
        "For slicing rows explicitly:"
      ]
    },
    {
      "metadata": {
        "id": "0ULcbb5L6qVH",
        "colab_type": "code",
        "colab": {
          "base_uri": "https://localhost:8080/",
          "height": 111
        },
        "outputId": "27bc0933-77af-476c-8984-262682a1fc38"
      },
      "cell_type": "code",
      "source": [
        "df.iloc[1:3,:]"
      ],
      "execution_count": 60,
      "outputs": [
        {
          "output_type": "execute_result",
          "data": {
            "text/html": [
              "<div>\n",
              "<style scoped>\n",
              "    .dataframe tbody tr th:only-of-type {\n",
              "        vertical-align: middle;\n",
              "    }\n",
              "\n",
              "    .dataframe tbody tr th {\n",
              "        vertical-align: top;\n",
              "    }\n",
              "\n",
              "    .dataframe thead th {\n",
              "        text-align: right;\n",
              "    }\n",
              "</style>\n",
              "<table border=\"1\" class=\"dataframe\">\n",
              "  <thead>\n",
              "    <tr style=\"text-align: right;\">\n",
              "      <th></th>\n",
              "      <th>A</th>\n",
              "      <th>B</th>\n",
              "      <th>C</th>\n",
              "      <th>D</th>\n",
              "    </tr>\n",
              "  </thead>\n",
              "  <tbody>\n",
              "    <tr>\n",
              "      <th>2013-01-02</th>\n",
              "      <td>4.616121</td>\n",
              "      <td>-1.362626</td>\n",
              "      <td>-2.136558</td>\n",
              "      <td>3.956213</td>\n",
              "    </tr>\n",
              "    <tr>\n",
              "      <th>2013-01-03</th>\n",
              "      <td>7.225252</td>\n",
              "      <td>-1.937813</td>\n",
              "      <td>-3.833247</td>\n",
              "      <td>5.813988</td>\n",
              "    </tr>\n",
              "  </tbody>\n",
              "</table>\n",
              "</div>"
            ],
            "text/plain": [
              "                   A         B         C         D\n",
              "2013-01-02  4.616121 -1.362626 -2.136558  3.956213\n",
              "2013-01-03  7.225252 -1.937813 -3.833247  5.813988"
            ]
          },
          "metadata": {
            "tags": []
          },
          "execution_count": 60
        }
      ]
    },
    {
      "metadata": {
        "id": "-0uBwfth6vXQ",
        "colab_type": "text"
      },
      "cell_type": "markdown",
      "source": [
        "For slicing columns explicitly:"
      ]
    },
    {
      "metadata": {
        "id": "zPfh7IGp6y4M",
        "colab_type": "code",
        "colab": {
          "base_uri": "https://localhost:8080/",
          "height": 235
        },
        "outputId": "4c42624c-6489-45d6-d422-403d2f8b8fb5"
      },
      "cell_type": "code",
      "source": [
        "df.iloc[:,1:3]"
      ],
      "execution_count": 61,
      "outputs": [
        {
          "output_type": "execute_result",
          "data": {
            "text/html": [
              "<div>\n",
              "<style scoped>\n",
              "    .dataframe tbody tr th:only-of-type {\n",
              "        vertical-align: middle;\n",
              "    }\n",
              "\n",
              "    .dataframe tbody tr th {\n",
              "        vertical-align: top;\n",
              "    }\n",
              "\n",
              "    .dataframe thead th {\n",
              "        text-align: right;\n",
              "    }\n",
              "</style>\n",
              "<table border=\"1\" class=\"dataframe\">\n",
              "  <thead>\n",
              "    <tr style=\"text-align: right;\">\n",
              "      <th></th>\n",
              "      <th>B</th>\n",
              "      <th>C</th>\n",
              "    </tr>\n",
              "  </thead>\n",
              "  <tbody>\n",
              "    <tr>\n",
              "      <th>2013-01-01</th>\n",
              "      <td>-0.282388</td>\n",
              "      <td>-1.021859</td>\n",
              "    </tr>\n",
              "    <tr>\n",
              "      <th>2013-01-02</th>\n",
              "      <td>-1.362626</td>\n",
              "      <td>-2.136558</td>\n",
              "    </tr>\n",
              "    <tr>\n",
              "      <th>2013-01-03</th>\n",
              "      <td>-1.937813</td>\n",
              "      <td>-3.833247</td>\n",
              "    </tr>\n",
              "    <tr>\n",
              "      <th>2013-01-04</th>\n",
              "      <td>-1.908438</td>\n",
              "      <td>-5.841201</td>\n",
              "    </tr>\n",
              "    <tr>\n",
              "      <th>2013-01-05</th>\n",
              "      <td>-3.450704</td>\n",
              "      <td>-6.945856</td>\n",
              "    </tr>\n",
              "    <tr>\n",
              "      <th>2013-01-06</th>\n",
              "      <td>-3.346541</td>\n",
              "      <td>-9.036622</td>\n",
              "    </tr>\n",
              "  </tbody>\n",
              "</table>\n",
              "</div>"
            ],
            "text/plain": [
              "                   B         C\n",
              "2013-01-01 -0.282388 -1.021859\n",
              "2013-01-02 -1.362626 -2.136558\n",
              "2013-01-03 -1.937813 -3.833247\n",
              "2013-01-04 -1.908438 -5.841201\n",
              "2013-01-05 -3.450704 -6.945856\n",
              "2013-01-06 -3.346541 -9.036622"
            ]
          },
          "metadata": {
            "tags": []
          },
          "execution_count": 61
        }
      ]
    },
    {
      "metadata": {
        "id": "vSM4fDrL62q8",
        "colab_type": "text"
      },
      "cell_type": "markdown",
      "source": [
        "For getting a value explicitly:"
      ]
    },
    {
      "metadata": {
        "id": "YdCXal1O66L4",
        "colab_type": "code",
        "colab": {
          "base_uri": "https://localhost:8080/",
          "height": 34
        },
        "outputId": "5241611b-7b52-4f37-b389-dc21ad19c6b0"
      },
      "cell_type": "code",
      "source": [
        "df.iloc[1,1]"
      ],
      "execution_count": 62,
      "outputs": [
        {
          "output_type": "execute_result",
          "data": {
            "text/plain": [
              "-1.3626263501648306"
            ]
          },
          "metadata": {
            "tags": []
          },
          "execution_count": 62
        }
      ]
    },
    {
      "metadata": {
        "id": "_J0RDhIu69zr",
        "colab_type": "text"
      },
      "cell_type": "markdown",
      "source": [
        "For getting fast access to a scalar (equivalent to the prior method):"
      ]
    },
    {
      "metadata": {
        "id": "VY9bZleb7ATz",
        "colab_type": "code",
        "colab": {
          "base_uri": "https://localhost:8080/",
          "height": 34
        },
        "outputId": "6140a926-b060-4dab-fc65-3f97a24695e2"
      },
      "cell_type": "code",
      "source": [
        "df.iat[1,1]"
      ],
      "execution_count": 63,
      "outputs": [
        {
          "output_type": "execute_result",
          "data": {
            "text/plain": [
              "-1.3626263501648306"
            ]
          },
          "metadata": {
            "tags": []
          },
          "execution_count": 63
        }
      ]
    },
    {
      "metadata": {
        "id": "KSB_U12hglZP",
        "colab_type": "text"
      },
      "cell_type": "markdown",
      "source": [
        "## Time Series\n",
        "\n",
        "pandas has simple, powerful, and efficient functionality for performing resampling operations during frequency conversion (e.g., converting secondly data into 5-minutely data). This is extremely common in, but not limited to, financial applications. See the [Time Series section](http://pandas.pydata.org/pandas-docs/stable/timeseries.html#timeseries)."
      ]
    },
    {
      "metadata": {
        "id": "hzNnJLvNg1I9",
        "colab_type": "code",
        "colab": {
          "base_uri": "https://localhost:8080/",
          "height": 51
        },
        "outputId": "67e38f11-72ca-4380-b3d1-839edc779ef1"
      },
      "cell_type": "code",
      "source": [
        "rng = pd.date_range('1/1/2012', periods=100, freq='S')\n",
        "ts = pd.Series(np.random.randint(0, 500, len(rng)), index=rng)\n",
        "ts.resample('5Min').sum()"
      ],
      "execution_count": 49,
      "outputs": [
        {
          "output_type": "execute_result",
          "data": {
            "text/plain": [
              "2012-01-01    25471\n",
              "Freq: 5T, dtype: int64"
            ]
          },
          "metadata": {
            "tags": []
          },
          "execution_count": 49
        }
      ]
    },
    {
      "metadata": {
        "id": "_ZMWfpb0hCtf",
        "colab_type": "code",
        "colab": {
          "base_uri": "https://localhost:8080/",
          "height": 119
        },
        "outputId": "b860639c-c249-4c20-cbb3-c9e021572c10"
      },
      "cell_type": "code",
      "source": [
        "rng = pd.date_range('3/6/2012 00:00', periods=5, freq='D')\n",
        "ts = pd.Series(np.random.randn(len(rng)), rng)\n",
        "ts"
      ],
      "execution_count": 50,
      "outputs": [
        {
          "output_type": "execute_result",
          "data": {
            "text/plain": [
              "2012-03-06   -0.124397\n",
              "2012-03-07   -0.012292\n",
              "2012-03-08   -0.207810\n",
              "2012-03-09    2.023632\n",
              "2012-03-10    0.831313\n",
              "Freq: D, dtype: float64"
            ]
          },
          "metadata": {
            "tags": []
          },
          "execution_count": 50
        }
      ]
    },
    {
      "metadata": {
        "id": "_46wPB9rhgIL",
        "colab_type": "code",
        "colab": {
          "base_uri": "https://localhost:8080/",
          "height": 119
        },
        "outputId": "f5313edd-aa82-4b58-d3c1-11e288720869"
      },
      "cell_type": "code",
      "source": [
        "ts_utc = ts.tz_localize('UTC')\n",
        "ts_utc"
      ],
      "execution_count": 51,
      "outputs": [
        {
          "output_type": "execute_result",
          "data": {
            "text/plain": [
              "2012-03-06 00:00:00+00:00   -0.124397\n",
              "2012-03-07 00:00:00+00:00   -0.012292\n",
              "2012-03-08 00:00:00+00:00   -0.207810\n",
              "2012-03-09 00:00:00+00:00    2.023632\n",
              "2012-03-10 00:00:00+00:00    0.831313\n",
              "Freq: D, dtype: float64"
            ]
          },
          "metadata": {
            "tags": []
          },
          "execution_count": 51
        }
      ]
    },
    {
      "metadata": {
        "id": "G2FWh4lBhqOf",
        "colab_type": "text"
      },
      "cell_type": "markdown",
      "source": [
        "Converting to another time zone:"
      ]
    },
    {
      "metadata": {
        "id": "bJt6IskehtDI",
        "colab_type": "code",
        "colab": {
          "base_uri": "https://localhost:8080/",
          "height": 119
        },
        "outputId": "93b1a7bc-f3ea-4436-fbc3-739751f3cbfe"
      },
      "cell_type": "code",
      "source": [
        "ts_utc.tz_convert('US/Eastern')"
      ],
      "execution_count": 52,
      "outputs": [
        {
          "output_type": "execute_result",
          "data": {
            "text/plain": [
              "2012-03-05 19:00:00-05:00   -0.124397\n",
              "2012-03-06 19:00:00-05:00   -0.012292\n",
              "2012-03-07 19:00:00-05:00   -0.207810\n",
              "2012-03-08 19:00:00-05:00    2.023632\n",
              "2012-03-09 19:00:00-05:00    0.831313\n",
              "Freq: D, dtype: float64"
            ]
          },
          "metadata": {
            "tags": []
          },
          "execution_count": 52
        }
      ]
    },
    {
      "metadata": {
        "id": "eZjYEYwYhzrj",
        "colab_type": "text"
      },
      "cell_type": "markdown",
      "source": [
        "Converting between time span representations:"
      ]
    },
    {
      "metadata": {
        "id": "ZtnGhZV6h24g",
        "colab_type": "code",
        "colab": {
          "base_uri": "https://localhost:8080/",
          "height": 119
        },
        "outputId": "ad93622c-4f25-4b7f-98e5-f0fd7630c0a5"
      },
      "cell_type": "code",
      "source": [
        "rng = pd.date_range('1/1/2012', periods=5, freq='M')\n",
        "ts = pd.Series(np.random.randn(len(rng)), index=rng)\n",
        "ts"
      ],
      "execution_count": 53,
      "outputs": [
        {
          "output_type": "execute_result",
          "data": {
            "text/plain": [
              "2012-01-31    0.070137\n",
              "2012-02-29   -1.054967\n",
              "2012-03-31   -0.463595\n",
              "2012-04-30   -0.990171\n",
              "2012-05-31    0.935596\n",
              "Freq: M, dtype: float64"
            ]
          },
          "metadata": {
            "tags": []
          },
          "execution_count": 53
        }
      ]
    },
    {
      "metadata": {
        "id": "m8ssMwbKiAXC",
        "colab_type": "code",
        "colab": {
          "base_uri": "https://localhost:8080/",
          "height": 119
        },
        "outputId": "b5d3972c-6248-499d-cf3c-e682fc99823f"
      },
      "cell_type": "code",
      "source": [
        "ps = ts.to_period()\n",
        "ps"
      ],
      "execution_count": 54,
      "outputs": [
        {
          "output_type": "execute_result",
          "data": {
            "text/plain": [
              "2012-01    0.070137\n",
              "2012-02   -1.054967\n",
              "2012-03   -0.463595\n",
              "2012-04   -0.990171\n",
              "2012-05    0.935596\n",
              "Freq: M, dtype: float64"
            ]
          },
          "metadata": {
            "tags": []
          },
          "execution_count": 54
        }
      ]
    },
    {
      "metadata": {
        "id": "j5iYb6Y6iJyn",
        "colab_type": "code",
        "colab": {
          "base_uri": "https://localhost:8080/",
          "height": 119
        },
        "outputId": "eb620411-64ea-43cd-9e09-4c104ce4724e"
      },
      "cell_type": "code",
      "source": [
        " ps.to_timestamp()"
      ],
      "execution_count": 55,
      "outputs": [
        {
          "output_type": "execute_result",
          "data": {
            "text/plain": [
              "2012-01-01    0.070137\n",
              "2012-02-01   -1.054967\n",
              "2012-03-01   -0.463595\n",
              "2012-04-01   -0.990171\n",
              "2012-05-01    0.935596\n",
              "Freq: MS, dtype: float64"
            ]
          },
          "metadata": {
            "tags": []
          },
          "execution_count": 55
        }
      ]
    },
    {
      "metadata": {
        "id": "yGq0gXJDiULn",
        "colab_type": "text"
      },
      "cell_type": "markdown",
      "source": [
        "Converting between period and timestamp enables some convenient arithmetic functions to be used. In the following example, we convert a quarterly frequency with year ending in November to 9am of the end of the month following the quarter end:"
      ]
    },
    {
      "metadata": {
        "id": "xp8B7cnLiYHz",
        "colab_type": "code",
        "colab": {
          "base_uri": "https://localhost:8080/",
          "height": 119
        },
        "outputId": "5c88e619-a024-457f-9249-c9689125e71c"
      },
      "cell_type": "code",
      "source": [
        "prng = pd.period_range('1990Q1', '2000Q4', freq='Q-NOV')\n",
        "ts = pd.Series(np.random.randn(len(prng)), prng)\n",
        "ts.index = (prng.asfreq('M', 'e') + 1).asfreq('H', 's') + 9\n",
        "ts.head()"
      ],
      "execution_count": 56,
      "outputs": [
        {
          "output_type": "execute_result",
          "data": {
            "text/plain": [
              "1990-03-01 09:00   -0.893307\n",
              "1990-06-01 09:00    0.419312\n",
              "1990-09-01 09:00   -0.318971\n",
              "1990-12-01 09:00    0.270055\n",
              "1991-03-01 09:00   -0.097349\n",
              "Freq: H, dtype: float64"
            ]
          },
          "metadata": {
            "tags": []
          },
          "execution_count": 56
        }
      ]
    },
    {
      "metadata": {
        "id": "ePkGRn0eltkV",
        "colab_type": "text"
      },
      "cell_type": "markdown",
      "source": [
        "## Categoricals"
      ]
    },
    {
      "metadata": {
        "id": "RUqkIUQslycO",
        "colab_type": "text"
      },
      "cell_type": "markdown",
      "source": [
        "## Plotting\n",
        "\n",
        "See the [Plotting](http://pandas.pydata.org/pandas-docs/stable/visualization.html#visualization) docs."
      ]
    },
    {
      "metadata": {
        "id": "axTo1tFsmAxW",
        "colab_type": "code",
        "colab": {
          "base_uri": "https://localhost:8080/",
          "height": 375
        },
        "outputId": "354fb3e8-7e91-4151-ec75-0ee608a8f8b1"
      },
      "cell_type": "code",
      "source": [
        "ts = pd.Series(np.random.randn(1000), index=pd.date_range('1/1/2000', periods=1000))\n",
        "ts = ts.cumsum()\n",
        "ts.plot()"
      ],
      "execution_count": 57,
      "outputs": [
        {
          "output_type": "execute_result",
          "data": {
            "text/plain": [
              "<matplotlib.axes._subplots.AxesSubplot at 0x7f6f2e3b05f8>"
            ]
          },
          "metadata": {
            "tags": []
          },
          "execution_count": 57
        },
        {
          "output_type": "display_data",
          "data": {
            "image/png": "[encoded data removed]",
            "text/plain": [
              "<matplotlib.figure.Figure at 0x7f6f2e3deac8>"
            ]
          },
          "metadata": {
            "tags": []
          }
        }
      ]
    },
    {
      "metadata": {
        "id": "HL339JFvmURx",
        "colab_type": "text"
      },
      "cell_type": "markdown",
      "source": [
        "On a DataFrame, the [plot](http://pandas.pydata.org/pandas-docs/stable/generated/pandas.DataFrame.plot.html#pandas.DataFrame.plot)() method is a convenience to plot all of the columns with labels:"
      ]
    },
    {
      "metadata": {
        "id": "XI2L1AcnmjPS",
        "colab_type": "code",
        "colab": {
          "base_uri": "https://localhost:8080/",
          "height": 404
        },
        "outputId": "46403be9-f173-474b-b48e-a99c94de755c"
      },
      "cell_type": "code",
      "source": [
        "f = pd.DataFrame(np.random.randn(1000,4), \n",
        "                 index=ts.index,\n",
        "                 columns=['A', 'B', 'C', 'D'])\n",
        "\n",
        "df = df.cumsum()\n",
        "plt.figure(); df.plot(); plt.legend(loc='best')"
      ],
      "execution_count": 58,
      "outputs": [
        {
          "output_type": "execute_result",
          "data": {
            "text/plain": [
              "<matplotlib.legend.Legend at 0x7f6f2e300588>"
            ]
          },
          "metadata": {
            "tags": []
          },
          "execution_count": 58
        },
        {
          "output_type": "display_data",
          "data": {
            "text/plain": [
              "<matplotlib.figure.Figure at 0x7f6f2e3a0940>"
            ]
          },
          "metadata": {
            "tags": []
          }
        },
        {
          "output_type": "display_data",
          "data": {
            "image/png": "[encoded data removed]",
            "text/plain": [
              "<matplotlib.figure.Figure at 0x7f6f2e300a20>"
            ]
          },
          "metadata": {
            "tags": []
          }
        }
      ]
    },
    {
      "metadata": {
        "id": "wLWo-n-FpThT",
        "colab_type": "code",
        "colab": {
          "base_uri": "https://localhost:8080/",
          "height": 404
        },
        "outputId": "424f782c-7e82-4fc9-8665-fd394f22ce3e"
      },
      "cell_type": "code",
      "source": [
        "f = pd.DataFrame(np.random.randn(1000,4), \n",
        "                 index=pd.date_range('1/1/2000', periods=1000),\n",
        "                 columns=['A', 'B', 'C', 'D'])\n",
        "\n",
        "df = df.cumsum()\n",
        "plt.figure(); df.plot(); plt.legend(loc='best')"
      ],
      "execution_count": 59,
      "outputs": [
        {
          "output_type": "execute_result",
          "data": {
            "text/plain": [
              "<matplotlib.legend.Legend at 0x7f6f2c225390>"
            ]
          },
          "metadata": {
            "tags": []
          },
          "execution_count": 59
        },
        {
          "output_type": "display_data",
          "data": {
            "text/plain": [
              "<matplotlib.figure.Figure at 0x7f6f2c21c518>"
            ]
          },
          "metadata": {
            "tags": []
          }
        },
        {
          "output_type": "display_data",
          "data": {
            "image/png": "[encoded data removed]",
            "text/plain": [
              "<matplotlib.figure.Figure at 0x7f6f2c2250f0>"
            ]
          },
          "metadata": {
            "tags": []
          }
        }
      ]
    }
  ]
}